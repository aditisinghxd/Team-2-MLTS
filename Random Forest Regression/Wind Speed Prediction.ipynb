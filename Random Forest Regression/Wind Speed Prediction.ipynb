{
 "cells": [
  {
   "cell_type": "code",
   "execution_count": 180,
   "id": "8f174872",
   "metadata": {},
   "outputs": [],
   "source": [
    "import pandas as pd\n",
    "import numpy as np\n",
    "import seaborn as sns\n",
    "import matplotlib.pyplot as plt\n",
    "%matplotlib inline\n",
    "import datetime as dt"
   ]
  },
  {
   "cell_type": "code",
   "execution_count": 181,
   "id": "ea96d7b8",
   "metadata": {},
   "outputs": [
    {
     "data": {
      "text/html": [
       "<div>\n",
       "<style scoped>\n",
       "    .dataframe tbody tr th:only-of-type {\n",
       "        vertical-align: middle;\n",
       "    }\n",
       "\n",
       "    .dataframe tbody tr th {\n",
       "        vertical-align: top;\n",
       "    }\n",
       "\n",
       "    .dataframe thead th {\n",
       "        text-align: right;\n",
       "    }\n",
       "</style>\n",
       "<table border=\"1\" class=\"dataframe\">\n",
       "  <thead>\n",
       "    <tr style=\"text-align: right;\">\n",
       "      <th></th>\n",
       "      <th>WIND</th>\n",
       "      <th>IND</th>\n",
       "      <th>RAIN</th>\n",
       "      <th>IND.1</th>\n",
       "      <th>T.MAX</th>\n",
       "      <th>IND.2</th>\n",
       "      <th>T.MIN</th>\n",
       "      <th>T.MIN.G</th>\n",
       "    </tr>\n",
       "    <tr>\n",
       "      <th>DATE</th>\n",
       "      <th></th>\n",
       "      <th></th>\n",
       "      <th></th>\n",
       "      <th></th>\n",
       "      <th></th>\n",
       "      <th></th>\n",
       "      <th></th>\n",
       "      <th></th>\n",
       "    </tr>\n",
       "  </thead>\n",
       "  <tbody>\n",
       "    <tr>\n",
       "      <th>1978-12-27</th>\n",
       "      <td>14.46</td>\n",
       "      <td>0</td>\n",
       "      <td>16.8</td>\n",
       "      <td>0.0</td>\n",
       "      <td>9.8</td>\n",
       "      <td>0.0</td>\n",
       "      <td>4.0</td>\n",
       "      <td>0.0</td>\n",
       "    </tr>\n",
       "    <tr>\n",
       "      <th>1978-12-28</th>\n",
       "      <td>14.33</td>\n",
       "      <td>0</td>\n",
       "      <td>16.0</td>\n",
       "      <td>0.0</td>\n",
       "      <td>9.1</td>\n",
       "      <td>0.0</td>\n",
       "      <td>8.5</td>\n",
       "      <td>8.0</td>\n",
       "    </tr>\n",
       "    <tr>\n",
       "      <th>1978-12-29</th>\n",
       "      <td>19.17</td>\n",
       "      <td>0</td>\n",
       "      <td>14.7</td>\n",
       "      <td>0.0</td>\n",
       "      <td>5.0</td>\n",
       "      <td>0.0</td>\n",
       "      <td>3.5</td>\n",
       "      <td>3.2</td>\n",
       "    </tr>\n",
       "    <tr>\n",
       "      <th>1978-12-30</th>\n",
       "      <td>18.08</td>\n",
       "      <td>0</td>\n",
       "      <td>4.9</td>\n",
       "      <td>0.0</td>\n",
       "      <td>2.9</td>\n",
       "      <td>0.0</td>\n",
       "      <td>0.3</td>\n",
       "      <td>-0.5</td>\n",
       "    </tr>\n",
       "    <tr>\n",
       "      <th>1978-12-31</th>\n",
       "      <td>19.25</td>\n",
       "      <td>0</td>\n",
       "      <td>0.5</td>\n",
       "      <td>0.0</td>\n",
       "      <td>1.2</td>\n",
       "      <td>1.0</td>\n",
       "      <td>-1.5</td>\n",
       "      <td>-3.0</td>\n",
       "    </tr>\n",
       "  </tbody>\n",
       "</table>\n",
       "</div>"
      ],
      "text/plain": [
       "             WIND  IND  RAIN  IND.1  T.MAX  IND.2  T.MIN  T.MIN.G\n",
       "DATE                                                             \n",
       "1978-12-27  14.46    0  16.8    0.0    9.8    0.0    4.0      0.0\n",
       "1978-12-28  14.33    0  16.0    0.0    9.1    0.0    8.5      8.0\n",
       "1978-12-29  19.17    0  14.7    0.0    5.0    0.0    3.5      3.2\n",
       "1978-12-30  18.08    0   4.9    0.0    2.9    0.0    0.3     -0.5\n",
       "1978-12-31  19.25    0   0.5    0.0    1.2    1.0   -1.5     -3.0"
      ]
     },
     "execution_count": 181,
     "metadata": {},
     "output_type": "execute_result"
    }
   ],
   "source": [
    "df = pd.read_csv(\"wind_dataset.csv\", index_col=\"DATE\", parse_dates=True)\n",
    "df.tail()\n"
   ]
  },
  {
   "cell_type": "code",
   "execution_count": 182,
   "id": "3c8374d2",
   "metadata": {},
   "outputs": [
    {
     "data": {
      "text/plain": [
       "(6574, 8)"
      ]
     },
     "execution_count": 182,
     "metadata": {},
     "output_type": "execute_result"
    }
   ],
   "source": [
    "df.shape"
   ]
  },
  {
   "cell_type": "code",
   "execution_count": 183,
   "id": "36c1fcd2",
   "metadata": {},
   "outputs": [
    {
     "name": "stdout",
     "output_type": "stream",
     "text": [
      "<class 'pandas.core.frame.DataFrame'>\n",
      "DatetimeIndex: 6574 entries, 1961-01-01 to 1978-12-31\n",
      "Data columns (total 8 columns):\n",
      " #   Column   Non-Null Count  Dtype  \n",
      "---  ------   --------------  -----  \n",
      " 0   WIND     6574 non-null   float64\n",
      " 1   IND      6574 non-null   int64  \n",
      " 2   RAIN     6574 non-null   float64\n",
      " 3   IND.1    6513 non-null   float64\n",
      " 4   T.MAX    5953 non-null   float64\n",
      " 5   IND.2    6513 non-null   float64\n",
      " 6   T.MIN    5900 non-null   float64\n",
      " 7   T.MIN.G  6214 non-null   float64\n",
      "dtypes: float64(7), int64(1)\n",
      "memory usage: 462.2 KB\n"
     ]
    }
   ],
   "source": [
    "df.info()"
   ]
  },
  {
   "cell_type": "code",
   "execution_count": 184,
   "id": "b250a2e8",
   "metadata": {},
   "outputs": [
    {
     "data": {
      "text/plain": [
       "WIND         0\n",
       "IND          0\n",
       "RAIN         0\n",
       "IND.1       61\n",
       "T.MAX      621\n",
       "IND.2       61\n",
       "T.MIN      674\n",
       "T.MIN.G    360\n",
       "dtype: int64"
      ]
     },
     "execution_count": 184,
     "metadata": {},
     "output_type": "execute_result"
    }
   ],
   "source": [
    "df.isnull().sum()"
   ]
  },
  {
   "cell_type": "code",
   "execution_count": 185,
   "id": "c957e4c4",
   "metadata": {},
   "outputs": [
    {
     "name": "stdout",
     "output_type": "stream",
     "text": [
      "IND.1\n",
      "0    0.0\n",
      "Name: IND.1, dtype: float64\n",
      "T.MAX\n",
      "0    10.0\n",
      "Name: T.MAX, dtype: float64\n",
      "IND.2\n",
      "0    0.0\n",
      "Name: IND.2, dtype: float64\n",
      "T.MIN\n",
      "0    9.0\n",
      "Name: T.MIN, dtype: float64\n",
      "T.MIN.G\n",
      "0    5.0\n",
      "Name: T.MIN.G, dtype: float64\n"
     ]
    }
   ],
   "source": [
    "colu = [\"IND.1\",\"T.MAX\" ,\"IND.2\" ,\"T.MIN\" ,\"T.MIN.G\" ]\n",
    "for i in colu:\n",
    "    print(i)\n",
    "    print(df[i].mode())"
   ]
  },
  {
   "cell_type": "code",
   "execution_count": 186,
   "id": "aa63cad0",
   "metadata": {},
   "outputs": [],
   "source": [
    "FilterInd1 = 0.0\n",
    "FilterTmax = 10.0\n",
    "FilterInd =0.0\n",
    "FilterTMIN = 9.0\n",
    "FilterTMIN_g = 5.0\n",
    "df[\"IND.1\"].fillna(FilterInd1 , inplace = True)\n",
    "df[\"T.MAX\"].fillna(FilterTmax , inplace = True)\n",
    "df[\"IND.2\"].fillna(FilterInd , inplace = True)\n",
    "df[\"T.MIN\"].fillna(FilterTMIN , inplace = True)\n",
    "df[\"T.MIN.G\"].fillna(FilterTMIN_g , inplace = True)"
   ]
  },
  {
   "cell_type": "code",
   "execution_count": 187,
   "id": "2169ec05",
   "metadata": {},
   "outputs": [
    {
     "data": {
      "text/plain": [
       "WIND       0\n",
       "IND        0\n",
       "RAIN       0\n",
       "IND.1      0\n",
       "T.MAX      0\n",
       "IND.2      0\n",
       "T.MIN      0\n",
       "T.MIN.G    0\n",
       "dtype: int64"
      ]
     },
     "execution_count": 187,
     "metadata": {},
     "output_type": "execute_result"
    }
   ],
   "source": [
    "df.isnull().sum()"
   ]
  },
  {
   "cell_type": "code",
   "execution_count": 190,
   "id": "4b482ed6",
   "metadata": {},
   "outputs": [
    {
     "data": {
      "text/plain": [
       "<AxesSubplot:xlabel='WIND'>"
      ]
     },
     "execution_count": 190,
     "metadata": {},
     "output_type": "execute_result"
    },
    {
     "data": {
      "image/png": "[encoded data removed]",
      "text/plain": [
       "<Figure size 432x288 with 1 Axes>"
      ]
     },
     "metadata": {
      "needs_background": "light"
     },
     "output_type": "display_data"
    }
   ],
   "source": [
    "sns.boxplot(x=df['WIND'])\n"
   ]
  },
  {
   "cell_type": "code",
   "execution_count": 189,
   "id": "a63bded5",
   "metadata": {},
   "outputs": [],
   "source": [
    "z_scores = (df['WIND'] - df['WIND'].mean()) / df['WIND'].std()\n",
    "outliers = np.abs(z_scores) > 3\n",
    "median = df['WIND'].median()\n",
    "df.loc[outliers, 'WIND'] = median\n",
    "\n",
    "z_scores = (df['IND'] - df['IND'].mean()) / df['IND'].std()\n",
    "outliers = np.abs(z_scores) > 3\n",
    "median = df['IND'].median()\n",
    "df.loc[outliers, 'IND'] = median\n",
    "\n",
    "z_scores = (df['RAIN'] - df['RAIN'].mean()) / df['RAIN'].std()\n",
    "outliers = np.abs(z_scores) > 3\n",
    "median = df['RAIN'].median()\n",
    "df.loc[outliers, 'RAIN'] = median\n",
    "\n",
    "z_scores = (df['IND.1'] - df['IND.1'].mean()) / df['IND.1'].std()\n",
    "outliers = np.abs(z_scores) > 3\n",
    "median = df['IND.1'].median()\n",
    "df.loc[outliers, 'IND.1'] = median\n",
    "\n",
    "z_scores = (df['T.MAX'] - df['T.MAX'].mean()) / df['T.MAX'].std()\n",
    "outliers = np.abs(z_scores) > 3\n",
    "median = df['T.MAX'].median()\n",
    "df.loc[outliers, 'T.MAX'] = median\n",
    "\n",
    "z_scores = (df['IND.2'] - df['IND.2'].mean()) / df['IND.2'].std()\n",
    "outliers = np.abs(z_scores) > 3\n",
    "median = df['IND.2'].median()\n",
    "df.loc[outliers, 'IND.2'] = median\n",
    "\n",
    "z_scores = (df['T.MIN'] - df['T.MIN'].mean()) / df['T.MIN'].std()\n",
    "outliers = np.abs(z_scores) > 3\n",
    "median = df['T.MIN'].median()\n",
    "df.loc[outliers, 'T.MIN'] = median\n",
    "\n",
    "z_scores = (df['T.MIN.G'] - df['T.MIN.G'].mean()) / df['T.MIN.G'].std()\n",
    "outliers = np.abs(z_scores) > 3\n",
    "median = df['T.MIN.G'].median()\n",
    "df.loc[outliers, 'T.MIN.G'] = median\n",
    "\n",
    "\n"
   ]
  },
  {
   "cell_type": "code",
   "execution_count": 192,
   "id": "4cbf5ca3",
   "metadata": {},
   "outputs": [
    {
     "data": {
      "text/html": [
       "<div>\n",
       "<style scoped>\n",
       "    .dataframe tbody tr th:only-of-type {\n",
       "        vertical-align: middle;\n",
       "    }\n",
       "\n",
       "    .dataframe tbody tr th {\n",
       "        vertical-align: top;\n",
       "    }\n",
       "\n",
       "    .dataframe thead th {\n",
       "        text-align: right;\n",
       "    }\n",
       "</style>\n",
       "<table border=\"1\" class=\"dataframe\">\n",
       "  <thead>\n",
       "    <tr style=\"text-align: right;\">\n",
       "      <th></th>\n",
       "      <th>WIND</th>\n",
       "      <th>IND</th>\n",
       "      <th>RAIN</th>\n",
       "      <th>IND.1</th>\n",
       "      <th>T.MAX</th>\n",
       "      <th>IND.2</th>\n",
       "      <th>T.MIN</th>\n",
       "      <th>T.MIN.G</th>\n",
       "    </tr>\n",
       "    <tr>\n",
       "      <th>DATE</th>\n",
       "      <th></th>\n",
       "      <th></th>\n",
       "      <th></th>\n",
       "      <th></th>\n",
       "      <th></th>\n",
       "      <th></th>\n",
       "      <th></th>\n",
       "      <th></th>\n",
       "    </tr>\n",
       "  </thead>\n",
       "  <tbody>\n",
       "    <tr>\n",
       "      <th>1961-01-01</th>\n",
       "      <td>13.67</td>\n",
       "      <td>0</td>\n",
       "      <td>0.2</td>\n",
       "      <td>0.0</td>\n",
       "      <td>9.5</td>\n",
       "      <td>0.0</td>\n",
       "      <td>3.7</td>\n",
       "      <td>-1.0</td>\n",
       "    </tr>\n",
       "    <tr>\n",
       "      <th>1961-01-02</th>\n",
       "      <td>11.50</td>\n",
       "      <td>0</td>\n",
       "      <td>5.1</td>\n",
       "      <td>0.0</td>\n",
       "      <td>7.2</td>\n",
       "      <td>0.0</td>\n",
       "      <td>4.2</td>\n",
       "      <td>1.1</td>\n",
       "    </tr>\n",
       "    <tr>\n",
       "      <th>1961-01-03</th>\n",
       "      <td>11.25</td>\n",
       "      <td>0</td>\n",
       "      <td>0.4</td>\n",
       "      <td>0.0</td>\n",
       "      <td>5.5</td>\n",
       "      <td>0.0</td>\n",
       "      <td>0.5</td>\n",
       "      <td>-0.5</td>\n",
       "    </tr>\n",
       "    <tr>\n",
       "      <th>1961-01-04</th>\n",
       "      <td>8.63</td>\n",
       "      <td>0</td>\n",
       "      <td>0.2</td>\n",
       "      <td>0.0</td>\n",
       "      <td>5.6</td>\n",
       "      <td>0.0</td>\n",
       "      <td>0.4</td>\n",
       "      <td>-3.2</td>\n",
       "    </tr>\n",
       "    <tr>\n",
       "      <th>1961-01-05</th>\n",
       "      <td>11.92</td>\n",
       "      <td>0</td>\n",
       "      <td>10.4</td>\n",
       "      <td>0.0</td>\n",
       "      <td>7.2</td>\n",
       "      <td>1.0</td>\n",
       "      <td>-1.5</td>\n",
       "      <td>-7.5</td>\n",
       "    </tr>\n",
       "  </tbody>\n",
       "</table>\n",
       "</div>"
      ],
      "text/plain": [
       "             WIND  IND  RAIN  IND.1  T.MAX  IND.2  T.MIN  T.MIN.G\n",
       "DATE                                                             \n",
       "1961-01-01  13.67    0   0.2    0.0    9.5    0.0    3.7     -1.0\n",
       "1961-01-02  11.50    0   5.1    0.0    7.2    0.0    4.2      1.1\n",
       "1961-01-03  11.25    0   0.4    0.0    5.5    0.0    0.5     -0.5\n",
       "1961-01-04   8.63    0   0.2    0.0    5.6    0.0    0.4     -3.2\n",
       "1961-01-05  11.92    0  10.4    0.0    7.2    1.0   -1.5     -7.5"
      ]
     },
     "execution_count": 192,
     "metadata": {},
     "output_type": "execute_result"
    }
   ],
   "source": [
    "df.head()"
   ]
  },
  {
   "cell_type": "code",
   "execution_count": 193,
   "id": "4a97fe1e",
   "metadata": {},
   "outputs": [
    {
     "name": "stdout",
     "output_type": "stream",
     "text": [
      "[[ 0.   0.2  0.  ...  0.   3.7 -1. ]\n",
      " [ 0.   5.1  0.  ...  0.   4.2  1.1]\n",
      " [ 0.   0.4  0.  ...  0.   0.5 -0.5]\n",
      " ...\n",
      " [ 0.   0.2  0.  ...  0.   3.5  3.2]\n",
      " [ 0.   4.9  0.  ...  0.   0.3 -0.5]\n",
      " [ 0.   0.5  0.  ...  1.  -1.5 -3. ]]\n"
     ]
    }
   ],
   "source": [
    "x1,x2,x3,x4,x5,x6,x7 = df['IND'], df['RAIN'],df['IND.1'],df['T.MAX'],df['IND.2'],df['T.MIN'],df['T.MIN.G']\n",
    "y = df['WIND']\n",
    "x1,x2,x3,x4,x5,x6,x7,y = np.array(x1),np.array(x2),np.array(x3),np.array(x4),np.array(x5),np.array(x6),np.array(x7),np.array(y)\n",
    "x1,x2,x3,x4,x5,x6,x7,y = x1.reshape(-1,1),x2.reshape(-1,1),x3.reshape(-1,1),x4.reshape(-1,1),x5.reshape(-1,1),x6.reshape(-1,1),x7.reshape(-1,1),y.reshape(-1,1)\n",
    "final_x = np.concatenate((x1,x2,x3,x4,x5,x6,x7), axis = 1)\n",
    "print(final_x)"
   ]
  },
  {
   "cell_type": "code",
   "execution_count": 194,
   "id": "af9969a7",
   "metadata": {},
   "outputs": [
    {
     "data": {
      "text/plain": [
       "6574"
      ]
     },
     "execution_count": 194,
     "metadata": {},
     "output_type": "execute_result"
    }
   ],
   "source": [
    "len(final_x)"
   ]
  },
  {
   "cell_type": "code",
   "execution_count": 195,
   "id": "6a5d129d",
   "metadata": {},
   "outputs": [
    {
     "data": {
      "text/plain": [
       "6574"
      ]
     },
     "execution_count": 195,
     "metadata": {},
     "output_type": "execute_result"
    }
   ],
   "source": [
    "len(y)"
   ]
  },
  {
   "cell_type": "code",
   "execution_count": 196,
   "id": "902af404",
   "metadata": {},
   "outputs": [],
   "source": [
    "from sklearn.model_selection import train_test_split\n",
    "x_train, x_test, y_train, y_test = train_test_split(final_x, y, test_size=0.2,random_state=23 ,shuffle=False)"
   ]
  },
  {
   "cell_type": "code",
   "execution_count": 197,
   "id": "d0d55b0a",
   "metadata": {},
   "outputs": [
    {
     "name": "stdout",
     "output_type": "stream",
     "text": [
      "[[ 0.   0.2  0.  ...  0.   3.7 -1. ]\n",
      " [ 0.   5.1  0.  ...  0.   4.2  1.1]\n",
      " [ 0.   0.4  0.  ...  0.   0.5 -0.5]\n",
      " ...\n",
      " [ 0.   0.   0.  ...  0.   3.5 -3.8]\n",
      " [ 0.   0.   0.  ...  0.   2.6  0.5]\n",
      " [ 0.   0.   0.  ...  0.   9.2  3.2]]\n"
     ]
    }
   ],
   "source": [
    "print(x_train)"
   ]
  },
  {
   "cell_type": "code",
   "execution_count": 198,
   "id": "244bcd32",
   "metadata": {},
   "outputs": [
    {
     "name": "stdout",
     "output_type": "stream",
     "text": [
      "[[ 0.   0.   0.  ...  0.   7.2 -1. ]\n",
      " [ 0.   0.   0.  ...  0.   7.9 -0.6]\n",
      " [ 0.   0.   0.  ...  0.   3.6 -0.5]\n",
      " ...\n",
      " [ 0.   0.2  0.  ...  0.   3.5  3.2]\n",
      " [ 0.   4.9  0.  ...  0.   0.3 -0.5]\n",
      " [ 0.   0.5  0.  ...  1.  -1.5 -3. ]]\n"
     ]
    }
   ],
   "source": [
    "print(x_test)"
   ]
  },
  {
   "cell_type": "code",
   "execution_count": 199,
   "id": "d135d3e6",
   "metadata": {},
   "outputs": [
    {
     "name": "stdout",
     "output_type": "stream",
     "text": [
      "[[13.67]\n",
      " [11.5 ]\n",
      " [11.25]\n",
      " ...\n",
      " [ 5.71]\n",
      " [ 7.96]\n",
      " [ 9.62]]\n"
     ]
    }
   ],
   "source": [
    "print(y_train)"
   ]
  },
  {
   "cell_type": "code",
   "execution_count": 200,
   "id": "2997f347",
   "metadata": {},
   "outputs": [
    {
     "name": "stdout",
     "output_type": "stream",
     "text": [
      "[[ 9.92]\n",
      " [ 6.87]\n",
      " [ 3.92]\n",
      " ...\n",
      " [19.17]\n",
      " [18.08]\n",
      " [19.25]]\n"
     ]
    }
   ],
   "source": [
    "print(y_test)"
   ]
  },
  {
   "cell_type": "code",
   "execution_count": 201,
   "id": "2bd891b8",
   "metadata": {},
   "outputs": [],
   "source": [
    "from sklearn.ensemble import RandomForestRegressor\n",
    "rfr = RandomForestRegressor(n_estimators=100, random_state=20,bootstrap= True, max_features=7)"
   ]
  },
  {
   "cell_type": "code",
   "execution_count": 202,
   "id": "adb6599f",
   "metadata": {},
   "outputs": [
    {
     "name": "stderr",
     "output_type": "stream",
     "text": [
      "<ipython-input-202-da087e9fd0ca>:1: DataConversionWarning: A column-vector y was passed when a 1d array was expected. Please change the shape of y to (n_samples,), for example using ravel().\n",
      "  rfr.fit(x_train, y_train)\n"
     ]
    },
    {
     "data": {
      "text/plain": [
       "RandomForestRegressor(max_features=7, random_state=20)"
      ]
     },
     "execution_count": 202,
     "metadata": {},
     "output_type": "execute_result"
    }
   ],
   "source": [
    "rfr.fit(x_train, y_train)"
   ]
  },
  {
   "cell_type": "code",
   "execution_count": 203,
   "id": "b57fe582",
   "metadata": {},
   "outputs": [
    {
     "name": "stdout",
     "output_type": "stream",
     "text": [
      "[ 6.9805  6.858   4.3006 ... 18.249  17.7637 10.6696]\n"
     ]
    }
   ],
   "source": [
    "y_pred = rfr.predict(x_test)\n",
    "print(y_pred)"
   ]
  },
  {
   "cell_type": "code",
   "execution_count": 204,
   "id": "1156b353",
   "metadata": {},
   "outputs": [
    {
     "name": "stdout",
     "output_type": "stream",
     "text": [
      "[[ 7.]\n",
      " [ 7.]\n",
      " [ 4.]\n",
      " ...\n",
      " [18.]\n",
      " [18.]\n",
      " [11.]]\n"
     ]
    }
   ],
   "source": [
    "y_pred_ver = y_pred.reshape(len(y_pred), 1)\n",
    "y_pred_ver = np.round(y_pred_ver)\n",
    "print(y_pred_ver)"
   ]
  },
  {
   "cell_type": "code",
   "execution_count": 205,
   "id": "b7522cfe",
   "metadata": {},
   "outputs": [
    {
     "name": "stdout",
     "output_type": "stream",
     "text": [
      "[[10.]\n",
      " [ 7.]\n",
      " [ 4.]\n",
      " ...\n",
      " [19.]\n",
      " [18.]\n",
      " [19.]]\n"
     ]
    }
   ],
   "source": [
    "y_true_ver = y_test.reshape(len(y_test), 1)\n",
    "y_true_ver = np.round(y_true_ver)\n",
    "print(y_true_ver)"
   ]
  },
  {
   "cell_type": "code",
   "execution_count": 206,
   "id": "21570d4f",
   "metadata": {},
   "outputs": [
    {
     "name": "stdout",
     "output_type": "stream",
     "text": [
      "[[10.  7.]\n",
      " [ 7.  7.]\n",
      " [ 4.  4.]\n",
      " ...\n",
      " [19. 18.]\n",
      " [18. 18.]\n",
      " [19. 11.]]\n"
     ]
    }
   ],
   "source": [
    "pred_comp = np.concatenate((y_true_ver, y_pred_ver), axis = 1)\n",
    "print(pred_comp)"
   ]
  },
  {
   "cell_type": "code",
   "execution_count": 207,
   "id": "32cd02ce",
   "metadata": {},
   "outputs": [
    {
     "data": {
      "text/html": [
       "<div>\n",
       "<style scoped>\n",
       "    .dataframe tbody tr th:only-of-type {\n",
       "        vertical-align: middle;\n",
       "    }\n",
       "\n",
       "    .dataframe tbody tr th {\n",
       "        vertical-align: top;\n",
       "    }\n",
       "\n",
       "    .dataframe thead th {\n",
       "        text-align: right;\n",
       "    }\n",
       "</style>\n",
       "<table border=\"1\" class=\"dataframe\">\n",
       "  <thead>\n",
       "    <tr style=\"text-align: right;\">\n",
       "      <th></th>\n",
       "      <th>0</th>\n",
       "      <th>1</th>\n",
       "    </tr>\n",
       "  </thead>\n",
       "  <tbody>\n",
       "    <tr>\n",
       "      <th>0</th>\n",
       "      <td>10.0</td>\n",
       "      <td>7.0</td>\n",
       "    </tr>\n",
       "    <tr>\n",
       "      <th>1</th>\n",
       "      <td>7.0</td>\n",
       "      <td>7.0</td>\n",
       "    </tr>\n",
       "    <tr>\n",
       "      <th>2</th>\n",
       "      <td>4.0</td>\n",
       "      <td>4.0</td>\n",
       "    </tr>\n",
       "    <tr>\n",
       "      <th>3</th>\n",
       "      <td>5.0</td>\n",
       "      <td>11.0</td>\n",
       "    </tr>\n",
       "    <tr>\n",
       "      <th>4</th>\n",
       "      <td>3.0</td>\n",
       "      <td>3.0</td>\n",
       "    </tr>\n",
       "  </tbody>\n",
       "</table>\n",
       "</div>"
      ],
      "text/plain": [
       "      0     1\n",
       "0  10.0   7.0\n",
       "1   7.0   7.0\n",
       "2   4.0   4.0\n",
       "3   5.0  11.0\n",
       "4   3.0   3.0"
      ]
     },
     "execution_count": 207,
     "metadata": {},
     "output_type": "execute_result"
    }
   ],
   "source": [
    "df = pd.DataFrame(pred_comp)\n",
    "df.head(5)"
   ]
  },
  {
   "cell_type": "code",
   "execution_count": 208,
   "id": "b98b7707",
   "metadata": {
    "scrolled": true
   },
   "outputs": [
    {
     "data": {
      "image/png": "[encoded data removed]",
      "text/plain": [
       "<Figure size 432x288 with 1 Axes>"
      ]
     },
     "metadata": {
      "needs_background": "light"
     },
     "output_type": "display_data"
    }
   ],
   "source": [
    "pred = rfr.predict(x_test)\n",
    "import matplotlib.pyplot as plt\n",
    "plt.plot(y_pred, label = \"Regression Prediction\")\n",
    "plt.plot(y_test, label = \"Actual Values\")\n",
    "plt.legend(loc=\"upper left\")\n",
    "plt.show()"
   ]
  },
  {
   "cell_type": "code",
   "execution_count": 209,
   "id": "89437e9c",
   "metadata": {},
   "outputs": [
    {
     "data": {
      "text/plain": [
       "3.5922119923668574"
      ]
     },
     "execution_count": 209,
     "metadata": {},
     "output_type": "execute_result"
    }
   ],
   "source": [
    "from sklearn.metrics import mean_absolute_error\n",
    "error = mean_absolute_error(y_test, y_pred)\n",
    "error"
   ]
  }
 ],
 "metadata": {
  "kernelspec": {
   "display_name": "Python 3",
   "language": "python",
   "name": "python3"
  },
  "language_info": {
   "codemirror_mode": {
    "name": "ipython",
    "version": 3
   },
   "file_extension": ".py",
   "mimetype": "text/x-python",
   "name": "python",
   "nbconvert_exporter": "python",
   "pygments_lexer": "ipython3",
   "version": "3.8.5"
  }
 },
 "nbformat": 4,
 "nbformat_minor": 5
}
