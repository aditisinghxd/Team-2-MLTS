{
 "cells": [
  {
   "cell_type": "code",
   "execution_count": 1,
   "id": "b58d1993",
   "metadata": {},
   "outputs": [],
   "source": [
    "import numpy as np\n",
    "import pandas as pd\n",
    "import matplotlib.pyplot as plt\n",
    "import seaborn as sns\n",
    "%matplotlib inline\n",
    "import datetime as dt"
   ]
  },
  {
   "cell_type": "code",
   "execution_count": 2,
   "id": "3f9177d9",
   "metadata": {},
   "outputs": [
    {
     "data": {
      "text/html": [
       "<div>\n",
       "<style scoped>\n",
       "    .dataframe tbody tr th:only-of-type {\n",
       "        vertical-align: middle;\n",
       "    }\n",
       "\n",
       "    .dataframe tbody tr th {\n",
       "        vertical-align: top;\n",
       "    }\n",
       "\n",
       "    .dataframe thead th {\n",
       "        text-align: right;\n",
       "    }\n",
       "</style>\n",
       "<table border=\"1\" class=\"dataframe\">\n",
       "  <thead>\n",
       "    <tr style=\"text-align: right;\">\n",
       "      <th></th>\n",
       "      <th>Unnamed: 0</th>\n",
       "      <th>value</th>\n",
       "    </tr>\n",
       "    <tr>\n",
       "      <th>timestamp</th>\n",
       "      <th></th>\n",
       "      <th></th>\n",
       "    </tr>\n",
       "  </thead>\n",
       "  <tbody>\n",
       "    <tr>\n",
       "      <th>2014-07-01 00:00:00</th>\n",
       "      <td>0</td>\n",
       "      <td>10844</td>\n",
       "    </tr>\n",
       "    <tr>\n",
       "      <th>2014-07-01 00:30:00</th>\n",
       "      <td>1</td>\n",
       "      <td>8127</td>\n",
       "    </tr>\n",
       "    <tr>\n",
       "      <th>2014-07-01 01:00:00</th>\n",
       "      <td>2</td>\n",
       "      <td>6210</td>\n",
       "    </tr>\n",
       "    <tr>\n",
       "      <th>2014-07-01 01:30:00</th>\n",
       "      <td>3</td>\n",
       "      <td>4656</td>\n",
       "    </tr>\n",
       "    <tr>\n",
       "      <th>2014-07-01 02:00:00</th>\n",
       "      <td>4</td>\n",
       "      <td>3820</td>\n",
       "    </tr>\n",
       "  </tbody>\n",
       "</table>\n",
       "</div>"
      ],
      "text/plain": [
       "                     Unnamed: 0  value\n",
       "timestamp                             \n",
       "2014-07-01 00:00:00           0  10844\n",
       "2014-07-01 00:30:00           1   8127\n",
       "2014-07-01 01:00:00           2   6210\n",
       "2014-07-01 01:30:00           3   4656\n",
       "2014-07-01 02:00:00           4   3820"
      ]
     },
     "execution_count": 2,
     "metadata": {},
     "output_type": "execute_result"
    }
   ],
   "source": [
    "df = pd.read_csv(\"dataset.csv\", index_col = \"timestamp\", parse_dates=True)\n",
    "df.head()"
   ]
  },
  {
   "cell_type": "code",
   "execution_count": 3,
   "id": "e9d11ce8",
   "metadata": {},
   "outputs": [],
   "source": [
    "df.drop(\"Unnamed: 0\", axis=1, inplace = True)"
   ]
  },
  {
   "cell_type": "code",
   "execution_count": 4,
   "id": "4d69a6cc",
   "metadata": {},
   "outputs": [
    {
     "data": {
      "text/html": [
       "<div>\n",
       "<style scoped>\n",
       "    .dataframe tbody tr th:only-of-type {\n",
       "        vertical-align: middle;\n",
       "    }\n",
       "\n",
       "    .dataframe tbody tr th {\n",
       "        vertical-align: top;\n",
       "    }\n",
       "\n",
       "    .dataframe thead th {\n",
       "        text-align: right;\n",
       "    }\n",
       "</style>\n",
       "<table border=\"1\" class=\"dataframe\">\n",
       "  <thead>\n",
       "    <tr style=\"text-align: right;\">\n",
       "      <th></th>\n",
       "      <th>value</th>\n",
       "    </tr>\n",
       "    <tr>\n",
       "      <th>timestamp</th>\n",
       "      <th></th>\n",
       "    </tr>\n",
       "  </thead>\n",
       "  <tbody>\n",
       "    <tr>\n",
       "      <th>2014-07-01 00:00:00</th>\n",
       "      <td>10844</td>\n",
       "    </tr>\n",
       "    <tr>\n",
       "      <th>2014-07-01 00:30:00</th>\n",
       "      <td>8127</td>\n",
       "    </tr>\n",
       "    <tr>\n",
       "      <th>2014-07-01 01:00:00</th>\n",
       "      <td>6210</td>\n",
       "    </tr>\n",
       "    <tr>\n",
       "      <th>2014-07-01 01:30:00</th>\n",
       "      <td>4656</td>\n",
       "    </tr>\n",
       "    <tr>\n",
       "      <th>2014-07-01 02:00:00</th>\n",
       "      <td>3820</td>\n",
       "    </tr>\n",
       "  </tbody>\n",
       "</table>\n",
       "</div>"
      ],
      "text/plain": [
       "                     value\n",
       "timestamp                 \n",
       "2014-07-01 00:00:00  10844\n",
       "2014-07-01 00:30:00   8127\n",
       "2014-07-01 01:00:00   6210\n",
       "2014-07-01 01:30:00   4656\n",
       "2014-07-01 02:00:00   3820"
      ]
     },
     "execution_count": 4,
     "metadata": {},
     "output_type": "execute_result"
    }
   ],
   "source": [
    "df.head()"
   ]
  },
  {
   "cell_type": "code",
   "execution_count": 5,
   "id": "d8063846",
   "metadata": {},
   "outputs": [
    {
     "data": {
      "text/plain": [
       "(10320, 1)"
      ]
     },
     "execution_count": 5,
     "metadata": {},
     "output_type": "execute_result"
    }
   ],
   "source": [
    "df.shape"
   ]
  },
  {
   "cell_type": "code",
   "execution_count": 6,
   "id": "db015639",
   "metadata": {},
   "outputs": [],
   "source": [
    "df['value-1']=df['value'].shift(+1)\n",
    "df['value-2']=df['value'].shift(+2)\n",
    "df['value-3']=df['value'].shift(+3)"
   ]
  },
  {
   "cell_type": "code",
   "execution_count": 11,
   "id": "91b671f3",
   "metadata": {},
   "outputs": [
    {
     "data": {
      "text/html": [
       "<div>\n",
       "<style scoped>\n",
       "    .dataframe tbody tr th:only-of-type {\n",
       "        vertical-align: middle;\n",
       "    }\n",
       "\n",
       "    .dataframe tbody tr th {\n",
       "        vertical-align: top;\n",
       "    }\n",
       "\n",
       "    .dataframe thead th {\n",
       "        text-align: right;\n",
       "    }\n",
       "</style>\n",
       "<table border=\"1\" class=\"dataframe\">\n",
       "  <thead>\n",
       "    <tr style=\"text-align: right;\">\n",
       "      <th></th>\n",
       "      <th>value</th>\n",
       "      <th>value-1</th>\n",
       "      <th>value-2</th>\n",
       "      <th>value-3</th>\n",
       "    </tr>\n",
       "    <tr>\n",
       "      <th>timestamp</th>\n",
       "      <th></th>\n",
       "      <th></th>\n",
       "      <th></th>\n",
       "      <th></th>\n",
       "    </tr>\n",
       "  </thead>\n",
       "  <tbody>\n",
       "    <tr>\n",
       "      <th>2014-07-01 01:30:00</th>\n",
       "      <td>4656</td>\n",
       "      <td>6210.0</td>\n",
       "      <td>8127.0</td>\n",
       "      <td>10844.0</td>\n",
       "    </tr>\n",
       "    <tr>\n",
       "      <th>2014-07-01 02:00:00</th>\n",
       "      <td>3820</td>\n",
       "      <td>4656.0</td>\n",
       "      <td>6210.0</td>\n",
       "      <td>8127.0</td>\n",
       "    </tr>\n",
       "    <tr>\n",
       "      <th>2014-07-01 02:30:00</th>\n",
       "      <td>2873</td>\n",
       "      <td>3820.0</td>\n",
       "      <td>4656.0</td>\n",
       "      <td>6210.0</td>\n",
       "    </tr>\n",
       "    <tr>\n",
       "      <th>2014-07-01 03:00:00</th>\n",
       "      <td>2369</td>\n",
       "      <td>2873.0</td>\n",
       "      <td>3820.0</td>\n",
       "      <td>4656.0</td>\n",
       "    </tr>\n",
       "    <tr>\n",
       "      <th>2014-07-01 03:30:00</th>\n",
       "      <td>2064</td>\n",
       "      <td>2369.0</td>\n",
       "      <td>2873.0</td>\n",
       "      <td>3820.0</td>\n",
       "    </tr>\n",
       "  </tbody>\n",
       "</table>\n",
       "</div>"
      ],
      "text/plain": [
       "                     value  value-1  value-2  value-3\n",
       "timestamp                                            \n",
       "2014-07-01 01:30:00   4656   6210.0   8127.0  10844.0\n",
       "2014-07-01 02:00:00   3820   4656.0   6210.0   8127.0\n",
       "2014-07-01 02:30:00   2873   3820.0   4656.0   6210.0\n",
       "2014-07-01 03:00:00   2369   2873.0   3820.0   4656.0\n",
       "2014-07-01 03:30:00   2064   2369.0   2873.0   3820.0"
      ]
     },
     "execution_count": 11,
     "metadata": {},
     "output_type": "execute_result"
    }
   ],
   "source": [
    "df.head()"
   ]
  },
  {
   "cell_type": "code",
   "execution_count": 8,
   "id": "a77fe1d9",
   "metadata": {},
   "outputs": [
    {
     "name": "stdout",
     "output_type": "stream",
     "text": [
      "<class 'pandas.core.frame.DataFrame'>\n",
      "DatetimeIndex: 10320 entries, 2014-07-01 00:00:00 to 2015-01-31 23:30:00\n",
      "Data columns (total 4 columns):\n",
      " #   Column   Non-Null Count  Dtype  \n",
      "---  ------   --------------  -----  \n",
      " 0   value    10320 non-null  int64  \n",
      " 1   value-1  10319 non-null  float64\n",
      " 2   value-2  10318 non-null  float64\n",
      " 3   value-3  10317 non-null  float64\n",
      "dtypes: float64(3), int64(1)\n",
      "memory usage: 403.1 KB\n"
     ]
    }
   ],
   "source": [
    "df.info()"
   ]
  },
  {
   "cell_type": "code",
   "execution_count": 9,
   "id": "6f65f0a9",
   "metadata": {},
   "outputs": [
    {
     "data": {
      "text/plain": [
       "value      0\n",
       "value-1    1\n",
       "value-2    2\n",
       "value-3    3\n",
       "dtype: int64"
      ]
     },
     "execution_count": 9,
     "metadata": {},
     "output_type": "execute_result"
    }
   ],
   "source": [
    "df.isnull().sum()"
   ]
  },
  {
   "cell_type": "code",
   "execution_count": 10,
   "id": "62ea214f",
   "metadata": {},
   "outputs": [
    {
     "data": {
      "text/html": [
       "<div>\n",
       "<style scoped>\n",
       "    .dataframe tbody tr th:only-of-type {\n",
       "        vertical-align: middle;\n",
       "    }\n",
       "\n",
       "    .dataframe tbody tr th {\n",
       "        vertical-align: top;\n",
       "    }\n",
       "\n",
       "    .dataframe thead th {\n",
       "        text-align: right;\n",
       "    }\n",
       "</style>\n",
       "<table border=\"1\" class=\"dataframe\">\n",
       "  <thead>\n",
       "    <tr style=\"text-align: right;\">\n",
       "      <th></th>\n",
       "      <th>value</th>\n",
       "      <th>value-1</th>\n",
       "      <th>value-2</th>\n",
       "      <th>value-3</th>\n",
       "    </tr>\n",
       "    <tr>\n",
       "      <th>timestamp</th>\n",
       "      <th></th>\n",
       "      <th></th>\n",
       "      <th></th>\n",
       "      <th></th>\n",
       "    </tr>\n",
       "  </thead>\n",
       "  <tbody>\n",
       "    <tr>\n",
       "      <th>2014-07-01 01:30:00</th>\n",
       "      <td>4656</td>\n",
       "      <td>6210.0</td>\n",
       "      <td>8127.0</td>\n",
       "      <td>10844.0</td>\n",
       "    </tr>\n",
       "    <tr>\n",
       "      <th>2014-07-01 02:00:00</th>\n",
       "      <td>3820</td>\n",
       "      <td>4656.0</td>\n",
       "      <td>6210.0</td>\n",
       "      <td>8127.0</td>\n",
       "    </tr>\n",
       "    <tr>\n",
       "      <th>2014-07-01 02:30:00</th>\n",
       "      <td>2873</td>\n",
       "      <td>3820.0</td>\n",
       "      <td>4656.0</td>\n",
       "      <td>6210.0</td>\n",
       "    </tr>\n",
       "    <tr>\n",
       "      <th>2014-07-01 03:00:00</th>\n",
       "      <td>2369</td>\n",
       "      <td>2873.0</td>\n",
       "      <td>3820.0</td>\n",
       "      <td>4656.0</td>\n",
       "    </tr>\n",
       "    <tr>\n",
       "      <th>2014-07-01 03:30:00</th>\n",
       "      <td>2064</td>\n",
       "      <td>2369.0</td>\n",
       "      <td>2873.0</td>\n",
       "      <td>3820.0</td>\n",
       "    </tr>\n",
       "    <tr>\n",
       "      <th>...</th>\n",
       "      <td>...</td>\n",
       "      <td>...</td>\n",
       "      <td>...</td>\n",
       "      <td>...</td>\n",
       "    </tr>\n",
       "    <tr>\n",
       "      <th>2015-01-31 21:30:00</th>\n",
       "      <td>24670</td>\n",
       "      <td>23719.0</td>\n",
       "      <td>23291.0</td>\n",
       "      <td>24985.0</td>\n",
       "    </tr>\n",
       "    <tr>\n",
       "      <th>2015-01-31 22:00:00</th>\n",
       "      <td>25721</td>\n",
       "      <td>24670.0</td>\n",
       "      <td>23719.0</td>\n",
       "      <td>23291.0</td>\n",
       "    </tr>\n",
       "    <tr>\n",
       "      <th>2015-01-31 22:30:00</th>\n",
       "      <td>27309</td>\n",
       "      <td>25721.0</td>\n",
       "      <td>24670.0</td>\n",
       "      <td>23719.0</td>\n",
       "    </tr>\n",
       "    <tr>\n",
       "      <th>2015-01-31 23:00:00</th>\n",
       "      <td>26591</td>\n",
       "      <td>27309.0</td>\n",
       "      <td>25721.0</td>\n",
       "      <td>24670.0</td>\n",
       "    </tr>\n",
       "    <tr>\n",
       "      <th>2015-01-31 23:30:00</th>\n",
       "      <td>26288</td>\n",
       "      <td>26591.0</td>\n",
       "      <td>27309.0</td>\n",
       "      <td>25721.0</td>\n",
       "    </tr>\n",
       "  </tbody>\n",
       "</table>\n",
       "<p>10317 rows × 4 columns</p>\n",
       "</div>"
      ],
      "text/plain": [
       "                     value  value-1  value-2  value-3\n",
       "timestamp                                            \n",
       "2014-07-01 01:30:00   4656   6210.0   8127.0  10844.0\n",
       "2014-07-01 02:00:00   3820   4656.0   6210.0   8127.0\n",
       "2014-07-01 02:30:00   2873   3820.0   4656.0   6210.0\n",
       "2014-07-01 03:00:00   2369   2873.0   3820.0   4656.0\n",
       "2014-07-01 03:30:00   2064   2369.0   2873.0   3820.0\n",
       "...                    ...      ...      ...      ...\n",
       "2015-01-31 21:30:00  24670  23719.0  23291.0  24985.0\n",
       "2015-01-31 22:00:00  25721  24670.0  23719.0  23291.0\n",
       "2015-01-31 22:30:00  27309  25721.0  24670.0  23719.0\n",
       "2015-01-31 23:00:00  26591  27309.0  25721.0  24670.0\n",
       "2015-01-31 23:30:00  26288  26591.0  27309.0  25721.0\n",
       "\n",
       "[10317 rows x 4 columns]"
      ]
     },
     "execution_count": 10,
     "metadata": {},
     "output_type": "execute_result"
    }
   ],
   "source": [
    "df=df.dropna()\n",
    "df"
   ]
  },
  {
   "cell_type": "code",
   "execution_count": 12,
   "id": "566700f9",
   "metadata": {},
   "outputs": [
    {
     "data": {
      "text/plain": [
       "value      0\n",
       "value-1    0\n",
       "value-2    0\n",
       "value-3    0\n",
       "dtype: int64"
      ]
     },
     "execution_count": 12,
     "metadata": {},
     "output_type": "execute_result"
    }
   ],
   "source": [
    "df.isnull().sum()"
   ]
  },
  {
   "cell_type": "code",
   "execution_count": 13,
   "id": "c7064c7e",
   "metadata": {},
   "outputs": [
    {
     "data": {
      "text/plain": [
       "<AxesSubplot:xlabel='value'>"
      ]
     },
     "execution_count": 13,
     "metadata": {},
     "output_type": "execute_result"
    },
    {
     "data": {
      "image/png": "[encoded data removed]",
      "text/plain": [
       "<Figure size 432x288 with 1 Axes>"
      ]
     },
     "metadata": {
      "needs_background": "light"
     },
     "output_type": "display_data"
    }
   ],
   "source": [
    "sns.boxplot(x=df[\"value\"])"
   ]
  },
  {
   "cell_type": "code",
   "execution_count": 14,
   "id": "598fbfe5",
   "metadata": {},
   "outputs": [
    {
     "data": {
      "text/plain": [
       "value  value-1  value-2  value-3\n",
       "False  False    False    False      10303\n",
       "                         True           3\n",
       "True   False    False    False          3\n",
       "False  False    True     True           2\n",
       "       True     True     False          2\n",
       "True   True     False    False          2\n",
       "False  False    True     False          1\n",
       "       True     False    False          1\n",
       "dtype: int64"
      ]
     },
     "execution_count": 14,
     "metadata": {},
     "output_type": "execute_result"
    }
   ],
   "source": [
    "filter1 = (df>30000)\n",
    "filter1.value_counts()"
   ]
  },
  {
   "cell_type": "code",
   "execution_count": 16,
   "id": "33e21262",
   "metadata": {},
   "outputs": [
    {
     "name": "stdout",
     "output_type": "stream",
     "text": [
      "[[ 6210.  8127. 10844.]\n",
      " [ 4656.  6210.  8127.]\n",
      " [ 3820.  4656.  6210.]\n",
      " ...\n",
      " [25721. 24670. 23719.]\n",
      " [27309. 25721. 24670.]\n",
      " [26591. 27309. 25721.]]\n"
     ]
    }
   ],
   "source": [
    "x1,x2,x3 = df['value-1'],df['value-2'],df['value-3']\n",
    "y = df['value']\n",
    "x1,x2,x3,y = np.array(x1),np.array(x2),np.array(x3),np.array(y)\n",
    "x1,x2,x3,y = x1.reshape(-1,1),x2.reshape(-1,1),x3.reshape(-1,1),y.reshape(-1,1)\n",
    "final_x = np.concatenate((x1,x2,x3), axis = 1)\n",
    "print(final_x)"
   ]
  },
  {
   "cell_type": "code",
   "execution_count": 17,
   "id": "fdfda060",
   "metadata": {},
   "outputs": [],
   "source": [
    "from sklearn.model_selection import train_test_split\n",
    "x_train, x_test, y_train, y_test = train_test_split(final_x,y, test_size=0.2)"
   ]
  },
  {
   "cell_type": "code",
   "execution_count": 18,
   "id": "dd47b394",
   "metadata": {},
   "outputs": [],
   "source": [
    "from sklearn.ensemble import RandomForestRegressor\n",
    "rfr = RandomForestRegressor(n_estimators=100, random_state=23, max_features=3)"
   ]
  },
  {
   "cell_type": "code",
   "execution_count": 19,
   "id": "d073fec7",
   "metadata": {},
   "outputs": [
    {
     "name": "stderr",
     "output_type": "stream",
     "text": [
      "<ipython-input-19-da087e9fd0ca>:1: DataConversionWarning: A column-vector y was passed when a 1d array was expected. Please change the shape of y to (n_samples,), for example using ravel().\n",
      "  rfr.fit(x_train, y_train)\n"
     ]
    },
    {
     "data": {
      "text/plain": [
       "RandomForestRegressor(max_features=3, random_state=23)"
      ]
     },
     "execution_count": 19,
     "metadata": {},
     "output_type": "execute_result"
    }
   ],
   "source": [
    "rfr.fit(x_train, y_train)"
   ]
  },
  {
   "cell_type": "code",
   "execution_count": 20,
   "id": "5fa61a69",
   "metadata": {},
   "outputs": [
    {
     "data": {
      "text/plain": [
       "array([25576.91,  3431.07, 20056.66, ...,  2851.15,  8001.  , 25941.45])"
      ]
     },
     "execution_count": 20,
     "metadata": {},
     "output_type": "execute_result"
    }
   ],
   "source": [
    "y_pred = rfr.predict(x_test)\n",
    "y_pred"
   ]
  },
  {
   "cell_type": "code",
   "execution_count": 25,
   "id": "bd8d03d6",
   "metadata": {},
   "outputs": [
    {
     "data": {
      "image/png": "[encoded data removed]",
      "text/plain": [
       "<Figure size 432x288 with 1 Axes>"
      ]
     },
     "metadata": {
      "needs_background": "light"
     },
     "output_type": "display_data"
    }
   ],
   "source": [
    "pred = rfr.predict(x_test)\n",
    "import matplotlib.pyplot as plt\n",
    "plt.plot(y_pred, label = \"Regression Prediction\")\n",
    "plt.plot(y_test, label = \"Actual Values\")\n",
    "plt.legend(loc=\"upper right\")\n",
    "plt.show()"
   ]
  },
  {
   "cell_type": "code",
   "execution_count": 34,
   "id": "43d0deb0",
   "metadata": {},
   "outputs": [
    {
     "data": {
      "image/png": "[encoded data removed]",
      "text/plain": [
       "<Figure size 432x288 with 1 Axes>"
      ]
     },
     "metadata": {
      "needs_background": "light"
     },
     "output_type": "display_data"
    }
   ],
   "source": [
    "diff = y_pred - pred\n",
    "\n",
    "plt.scatter(range(len(diff)), diff)\n",
    "plt.axhline(y=0, color='black', linestyle='--')\n",
    "plt.title('Ground Truth - Prediction')\n",
    "plt.xlabel('Sample index')\n",
    "plt.ylabel('Difference')\n",
    "plt.grid(True)\n",
    "\n",
    "plt.show()\n"
   ]
  },
  {
   "cell_type": "code",
   "execution_count": 22,
   "id": "86d8a9be",
   "metadata": {},
   "outputs": [
    {
     "data": {
      "text/plain": [
       "0.9790784754186493"
      ]
     },
     "execution_count": 22,
     "metadata": {},
     "output_type": "execute_result"
    }
   ],
   "source": [
    "from sklearn.metrics import r2_score\n",
    "score = r2_score(y_test, y_pred)\n",
    "score"
   ]
  }
 ],
 "metadata": {
  "kernelspec": {
   "display_name": "Python 3",
   "language": "python",
   "name": "python3"
  },
  "language_info": {
   "codemirror_mode": {
    "name": "ipython",
    "version": 3
   },
   "file_extension": ".py",
   "mimetype": "text/x-python",
   "name": "python",
   "nbconvert_exporter": "python",
   "pygments_lexer": "ipython3",
   "version": "3.8.5"
  }
 },
 "nbformat": 4,
 "nbformat_minor": 5
}
